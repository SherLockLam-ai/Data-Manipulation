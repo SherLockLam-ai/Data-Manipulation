{
 "cells": [
  {
   "cell_type": "markdown",
   "metadata": {
    "id": "fnSdNLI501FY"
   },
   "source": [
    "## **1. Import necessary libraries**"
   ]
  },
  {
   "cell_type": "code",
   "execution_count": null,
   "metadata": {
    "id": "s5zjbUowBamY"
   },
   "outputs": [],
   "source": [
    "import pandas as pd\n",
    "import os\n",
    "import requests\n",
    "import time\n",
    "import random\n",
    "\n",
    "from io import BytesIO\n",
    "from PIL import Image\n",
    "from tqdm import tqdm\n",
    "from selenium import webdriver\n",
    "from selenium.webdriver.common.by import By\n",
    "from selenium.webdriver.support.ui import WebDriverWait\n",
    "from selenium.webdriver.support import expected_conditions as EC"
   ]
  },
  {
   "cell_type": "markdown",
   "metadata": {
    "id": "UM85N4Wj1Bgs"
   },
   "source": [
    "## **2. Crawl**"
   ]
  },
  {
   "cell_type": "code",
   "execution_count": null,
   "metadata": {
    "colab": {
     "base_uri": "https://localhost:8080/"
    },
    "executionInfo": {
     "elapsed": 249055,
     "status": "ok",
     "timestamp": 1684485099355,
     "user": {
      "displayName": "Thắng Dương",
      "userId": "16346474942041582373"
     },
     "user_tz": -420
    },
    "id": "JNtQ4QAeqyp1",
    "outputId": "17cf5070-c7a5-4f0f-afeb-525eb4a42b7e"
   },
   "outputs": [
    {
     "name": "stderr",
     "output_type": "stream",
     "text": [
      "100%|██████████| 10/10 [04:07<00:00, 24.76s/it]\n"
     ]
    }
   ],
   "source": [
    "# Initialize google chrome browser\n",
    "chrome_options = webdriver.ChromeOptions()\n",
    "chrome_options.add_argument('--headless=new')\n",
    "chrome_options.add_argument('--no-sandbox')\n",
    "driver = webdriver.Chrome(\n",
    "    'chromedriver',\n",
    "    options=chrome_options\n",
    ")\n",
    "\n",
    "# Create a folder for storing articles\n",
    "root_dir = './vn_news_thumbnail'\n",
    "os.makedirs(root_dir, exist_ok=True)\n",
    "n_pages = 10 # Change if you want more articles\n",
    "img_id = 0\n",
    "\n",
    "for page_idx in tqdm(range(n_pages)):\n",
    "    # Access to table page\n",
    "    main_url = f'https://vietnamnet.vn/thoi-su-page{page_idx}' \n",
    "    driver.get(main_url)\n",
    "\n",
    "    # Get list of images (list of tags)\n",
    "    imgs_lst_xpath = '//div[@class=\"topStory-15nd\"]/div/div[1]/a/img'\n",
    "    imgs_tags = driver.find_elements(\n",
    "        By.XPATH, \n",
    "        imgs_lst_xpath\n",
    "    )\n",
    "    # Get list of image urls\n",
    "    img_urls = [\n",
    "        imgs_tag.get_attribute('src') \\\n",
    "            for imgs_tag in imgs_tags\n",
    "    ]\n",
    "\n",
    "    for img_url in img_urls:\n",
    "        # Get image information\n",
    "        img_url_resp = requests.get(img_url)\n",
    "        try:\n",
    "            # Read image\n",
    "            img = Image.open(\n",
    "                BytesIO(img_url_resp.content)\n",
    "            )\n",
    "        except:\n",
    "            continue\n",
    "\n",
    "        # Convert image to RGB format if needed\n",
    "        if img.mode == 'P':\n",
    "            img = img.convert('RGB') \n",
    "\n",
    "        ### YOUR CODE GOES HERE ### (You should fill the missing parts)\n",
    "        # Save crawled image\n",
    "        img_name = f'IMG_{img_id:05}.png'\n",
    "        img_save_path = os.path.join(\n",
    "            root_dir,\n",
    "            img_name\n",
    "        )\n",
    "        img.save(img_save_path) # Read how to use this method: https://www.geeksforgeeks.org/python-pil-image-save-method/\n",
    "        img_id += 1\n",
    "\n",
    "        ### YOUR CODE ENDS HERE ###"
   ]
  },
  {
   "cell_type": "code",
   "execution_count": null,
   "metadata": {
    "colab": {
     "base_uri": "https://localhost:8080/"
    },
    "executionInfo": {
     "elapsed": 3680,
     "status": "ok",
     "timestamp": 1684485121365,
     "user": {
      "displayName": "Thắng Dương",
      "userId": "16346474942041582373"
     },
     "user_tz": -420
    },
    "id": "Xrs5RJ6PH45H",
    "outputId": "99c04481-983a-4a3b-b781-d4861f5dc048"
   },
   "outputs": [
    {
     "name": "stdout",
     "output_type": "stream",
     "text": [
      "  adding: vn_news_thumbnail/ (stored 0%)\n",
      "  adding: vn_news_thumbnail/IMG_00063.png (deflated 0%)\n",
      "  adding: vn_news_thumbnail/IMG_00065.png (deflated 0%)\n",
      "  adding: vn_news_thumbnail/IMG_00040.png (deflated 0%)\n",
      "  adding: vn_news_thumbnail/IMG_00045.png (deflated 0%)\n",
      "  adding: vn_news_thumbnail/IMG_00089.png (deflated 0%)\n",
      "  adding: vn_news_thumbnail/IMG_00042.png (deflated 0%)\n",
      "  adding: vn_news_thumbnail/IMG_00147.png (deflated 0%)\n",
      "  adding: vn_news_thumbnail/IMG_00041.png (deflated 0%)\n",
      "  adding: vn_news_thumbnail/IMG_00073.png (deflated 0%)\n",
      "  adding: vn_news_thumbnail/IMG_00024.png (deflated 0%)\n",
      "  adding: vn_news_thumbnail/IMG_00016.png (deflated 0%)\n",
      "  adding: vn_news_thumbnail/IMG_00039.png (deflated 0%)\n",
      "  adding: vn_news_thumbnail/IMG_00029.png (deflated 0%)\n",
      "  adding: vn_news_thumbnail/IMG_00149.png (deflated 0%)\n",
      "  adding: vn_news_thumbnail/IMG_00114.png (deflated 0%)\n",
      "  adding: vn_news_thumbnail/IMG_00104.png (deflated 0%)\n",
      "  adding: vn_news_thumbnail/IMG_00097.png (deflated 0%)\n",
      "  adding: vn_news_thumbnail/IMG_00119.png (deflated 0%)\n",
      "  adding: vn_news_thumbnail/IMG_00021.png (deflated 0%)\n",
      "  adding: vn_news_thumbnail/IMG_00086.png (deflated 0%)\n",
      "  adding: vn_news_thumbnail/IMG_00054.png (deflated 0%)\n",
      "  adding: vn_news_thumbnail/IMG_00115.png (deflated 0%)\n",
      "  adding: vn_news_thumbnail/IMG_00095.png (deflated 0%)\n",
      "  adding: vn_news_thumbnail/IMG_00148.png (deflated 0%)\n",
      "  adding: vn_news_thumbnail/IMG_00031.png (deflated 0%)\n",
      "  adding: vn_news_thumbnail/IMG_00076.png (deflated 0%)\n",
      "  adding: vn_news_thumbnail/IMG_00079.png (deflated 0%)\n",
      "  adding: vn_news_thumbnail/IMG_00027.png (deflated 0%)\n",
      "  adding: vn_news_thumbnail/IMG_00004.png (deflated 0%)\n",
      "  adding: vn_news_thumbnail/IMG_00093.png (deflated 1%)\n",
      "  adding: vn_news_thumbnail/IMG_00126.png (deflated 0%)\n",
      "  adding: vn_news_thumbnail/IMG_00015.png (deflated 0%)\n",
      "  adding: vn_news_thumbnail/IMG_00120.png (deflated 0%)\n",
      "  adding: vn_news_thumbnail/IMG_00122.png (deflated 0%)\n",
      "  adding: vn_news_thumbnail/IMG_00130.png (deflated 0%)\n",
      "  adding: vn_news_thumbnail/IMG_00108.png (deflated 0%)\n",
      "  adding: vn_news_thumbnail/IMG_00064.png (deflated 0%)\n",
      "  adding: vn_news_thumbnail/IMG_00014.png (deflated 0%)\n",
      "  adding: vn_news_thumbnail/IMG_00062.png (deflated 0%)\n",
      "  adding: vn_news_thumbnail/IMG_00013.png (deflated 0%)\n",
      "  adding: vn_news_thumbnail/IMG_00117.png (deflated 0%)\n",
      "  adding: vn_news_thumbnail/IMG_00059.png (deflated 0%)\n",
      "  adding: vn_news_thumbnail/IMG_00113.png (deflated 0%)\n",
      "  adding: vn_news_thumbnail/IMG_00030.png (deflated 0%)\n",
      "  adding: vn_news_thumbnail/IMG_00081.png (deflated 0%)\n",
      "  adding: vn_news_thumbnail/IMG_00128.png (deflated 1%)\n",
      "  adding: vn_news_thumbnail/IMG_00080.png (deflated 0%)\n",
      "  adding: vn_news_thumbnail/IMG_00053.png (deflated 0%)\n",
      "  adding: vn_news_thumbnail/IMG_00006.png (deflated 0%)\n",
      "  adding: vn_news_thumbnail/IMG_00007.png (deflated 0%)\n",
      "  adding: vn_news_thumbnail/IMG_00067.png (deflated 1%)\n",
      "  adding: vn_news_thumbnail/IMG_00068.png (deflated 0%)\n",
      "  adding: vn_news_thumbnail/IMG_00051.png (deflated 0%)\n",
      "  adding: vn_news_thumbnail/IMG_00035.png (deflated 0%)\n",
      "  adding: vn_news_thumbnail/IMG_00083.png (deflated 0%)\n",
      "  adding: vn_news_thumbnail/IMG_00038.png (deflated 0%)\n",
      "  adding: vn_news_thumbnail/IMG_00109.png (deflated 0%)\n",
      "  adding: vn_news_thumbnail/IMG_00098.png (deflated 0%)\n",
      "  adding: vn_news_thumbnail/IMG_00137.png (deflated 0%)\n",
      "  adding: vn_news_thumbnail/IMG_00012.png (deflated 0%)\n",
      "  adding: vn_news_thumbnail/IMG_00145.png (deflated 0%)\n",
      "  adding: vn_news_thumbnail/IMG_00056.png (deflated 0%)\n",
      "  adding: vn_news_thumbnail/IMG_00141.png (deflated 0%)\n",
      "  adding: vn_news_thumbnail/IMG_00112.png (deflated 0%)\n",
      "  adding: vn_news_thumbnail/IMG_00106.png (deflated 0%)\n",
      "  adding: vn_news_thumbnail/IMG_00140.png (deflated 0%)\n",
      "  adding: vn_news_thumbnail/IMG_00088.png (deflated 0%)\n",
      "  adding: vn_news_thumbnail/IMG_00107.png (deflated 0%)\n",
      "  adding: vn_news_thumbnail/IMG_00096.png (deflated 0%)\n",
      "  adding: vn_news_thumbnail/IMG_00101.png (deflated 0%)\n",
      "  adding: vn_news_thumbnail/IMG_00066.png (deflated 0%)\n",
      "  adding: vn_news_thumbnail/IMG_00143.png (deflated 0%)\n",
      "  adding: vn_news_thumbnail/IMG_00121.png (deflated 0%)\n",
      "  adding: vn_news_thumbnail/IMG_00146.png (deflated 0%)\n",
      "  adding: vn_news_thumbnail/IMG_00023.png (deflated 0%)\n",
      "  adding: vn_news_thumbnail/IMG_00077.png (deflated 0%)\n",
      "  adding: vn_news_thumbnail/IMG_00019.png (deflated 0%)\n",
      "  adding: vn_news_thumbnail/IMG_00033.png (deflated 0%)\n",
      "  adding: vn_news_thumbnail/IMG_00044.png (deflated 0%)\n",
      "  adding: vn_news_thumbnail/IMG_00142.png (deflated 0%)\n",
      "  adding: vn_news_thumbnail/IMG_00048.png (deflated 0%)\n",
      "  adding: vn_news_thumbnail/IMG_00046.png (deflated 0%)\n",
      "  adding: vn_news_thumbnail/IMG_00094.png (deflated 0%)\n",
      "  adding: vn_news_thumbnail/IMG_00058.png (deflated 0%)\n",
      "  adding: vn_news_thumbnail/IMG_00124.png (deflated 0%)\n",
      "  adding: vn_news_thumbnail/IMG_00057.png (deflated 0%)\n",
      "  adding: vn_news_thumbnail/IMG_00127.png (deflated 0%)\n",
      "  adding: vn_news_thumbnail/IMG_00005.png (deflated 0%)\n",
      "  adding: vn_news_thumbnail/IMG_00136.png (deflated 0%)\n",
      "  adding: vn_news_thumbnail/IMG_00110.png (deflated 0%)\n",
      "  adding: vn_news_thumbnail/IMG_00000.png (deflated 0%)\n",
      "  adding: vn_news_thumbnail/IMG_00009.png (deflated 0%)\n",
      "  adding: vn_news_thumbnail/IMG_00131.png (deflated 0%)\n",
      "  adding: vn_news_thumbnail/IMG_00020.png (deflated 0%)\n",
      "  adding: vn_news_thumbnail/IMG_00017.png (deflated 1%)\n",
      "  adding: vn_news_thumbnail/IMG_00135.png (deflated 1%)\n",
      "  adding: vn_news_thumbnail/IMG_00072.png (deflated 0%)\n",
      "  adding: vn_news_thumbnail/IMG_00037.png (deflated 0%)\n",
      "  adding: vn_news_thumbnail/IMG_00036.png (deflated 0%)\n",
      "  adding: vn_news_thumbnail/IMG_00134.png (deflated 0%)\n",
      "  adding: vn_news_thumbnail/IMG_00022.png (deflated 0%)\n",
      "  adding: vn_news_thumbnail/IMG_00144.png (deflated 0%)\n",
      "  adding: vn_news_thumbnail/IMG_00132.png (deflated 0%)\n",
      "  adding: vn_news_thumbnail/IMG_00082.png (deflated 1%)\n",
      "  adding: vn_news_thumbnail/IMG_00047.png (deflated 0%)\n",
      "  adding: vn_news_thumbnail/IMG_00091.png (deflated 0%)\n",
      "  adding: vn_news_thumbnail/IMG_00139.png (deflated 0%)\n",
      "  adding: vn_news_thumbnail/IMG_00034.png (deflated 0%)\n",
      "  adding: vn_news_thumbnail/IMG_00071.png (deflated 0%)\n",
      "  adding: vn_news_thumbnail/IMG_00049.png (deflated 0%)\n",
      "  adding: vn_news_thumbnail/IMG_00011.png (deflated 0%)\n",
      "  adding: vn_news_thumbnail/IMG_00070.png (deflated 0%)\n",
      "  adding: vn_news_thumbnail/IMG_00118.png (deflated 0%)\n",
      "  adding: vn_news_thumbnail/IMG_00060.png (deflated 0%)\n",
      "  adding: vn_news_thumbnail/IMG_00100.png (deflated 0%)\n",
      "  adding: vn_news_thumbnail/.ipynb_checkpoints/ (stored 0%)\n",
      "  adding: vn_news_thumbnail/IMG_00078.png (deflated 0%)\n",
      "  adding: vn_news_thumbnail/IMG_00052.png (deflated 0%)\n",
      "  adding: vn_news_thumbnail/IMG_00032.png (deflated 0%)\n",
      "  adding: vn_news_thumbnail/IMG_00102.png (deflated 0%)\n",
      "  adding: vn_news_thumbnail/IMG_00003.png (deflated 0%)\n",
      "  adding: vn_news_thumbnail/IMG_00008.png (deflated 1%)\n",
      "  adding: vn_news_thumbnail/IMG_00123.png (deflated 0%)\n",
      "  adding: vn_news_thumbnail/IMG_00069.png (deflated 0%)\n",
      "  adding: vn_news_thumbnail/IMG_00092.png (deflated 0%)\n",
      "  adding: vn_news_thumbnail/IMG_00099.png (deflated 0%)\n",
      "  adding: vn_news_thumbnail/IMG_00028.png (deflated 0%)\n",
      "  adding: vn_news_thumbnail/IMG_00001.png (deflated 0%)\n",
      "  adding: vn_news_thumbnail/IMG_00105.png (deflated 0%)\n",
      "  adding: vn_news_thumbnail/IMG_00085.png (deflated 0%)\n",
      "  adding: vn_news_thumbnail/IMG_00111.png (deflated 0%)\n",
      "  adding: vn_news_thumbnail/IMG_00075.png (deflated 0%)\n",
      "  adding: vn_news_thumbnail/IMG_00010.png (deflated 0%)\n",
      "  adding: vn_news_thumbnail/IMG_00018.png (deflated 0%)\n",
      "  adding: vn_news_thumbnail/IMG_00002.png (deflated 0%)\n",
      "  adding: vn_news_thumbnail/IMG_00090.png (deflated 0%)\n",
      "  adding: vn_news_thumbnail/IMG_00103.png (deflated 0%)\n",
      "  adding: vn_news_thumbnail/IMG_00025.png (deflated 0%)\n",
      "  adding: vn_news_thumbnail/IMG_00116.png (deflated 5%)\n",
      "  adding: vn_news_thumbnail/IMG_00129.png (deflated 0%)\n",
      "  adding: vn_news_thumbnail/IMG_00138.png (deflated 0%)\n",
      "  adding: vn_news_thumbnail/IMG_00125.png (deflated 0%)\n",
      "  adding: vn_news_thumbnail/IMG_00055.png (deflated 0%)\n",
      "  adding: vn_news_thumbnail/IMG_00061.png (deflated 0%)\n",
      "  adding: vn_news_thumbnail/IMG_00133.png (deflated 0%)\n",
      "  adding: vn_news_thumbnail/IMG_00084.png (deflated 0%)\n",
      "  adding: vn_news_thumbnail/IMG_00074.png (deflated 0%)\n",
      "  adding: vn_news_thumbnail/IMG_00050.png (deflated 0%)\n",
      "  adding: vn_news_thumbnail/IMG_00087.png (deflated 0%)\n",
      "  adding: vn_news_thumbnail/IMG_00026.png (deflated 0%)\n",
      "  adding: vn_news_thumbnail/IMG_00043.png (deflated 0%)\n"
     ]
    }
   ],
   "source": [
    "!zip -r vn_news_thumbnail.zip vn_news_thumbnail"
   ]
  },
  {
   "cell_type": "code",
   "execution_count": null,
   "metadata": {
    "colab": {
     "base_uri": "https://localhost:8080/"
    },
    "executionInfo": {
     "elapsed": 20306,
     "status": "ok",
     "timestamp": 1684485144503,
     "user": {
      "displayName": "Thắng Dương",
      "userId": "16346474942041582373"
     },
     "user_tz": -420
    },
    "id": "jn1R3V8tK7qe",
    "outputId": "6b5bae58-6609-44cd-8a99-223d48d0b839"
   },
   "outputs": [
    {
     "name": "stdout",
     "output_type": "stream",
     "text": [
      "Mounted at /content/gdrive\n"
     ]
    }
   ],
   "source": [
    "from google.colab import drive\n",
    "\n",
    "drive.mount('/content/gdrive')"
   ]
  },
  {
   "cell_type": "code",
   "execution_count": null,
   "metadata": {
    "id": "Cuo9U5-8LBit"
   },
   "outputs": [],
   "source": [
    "!cp '/content/vn_news_thumbnail.zip' '/content/gdrive/MyDrive/Coordinate/aio_2023_ta/module1/data_handling_project/dataset'"
   ]
  }
 ],
 "metadata": {
  "colab": {
   "authorship_tag": "ABX9TyN6AaU0dhY5ukLcBYeDQYiB",
   "collapsed_sections": [
    "fnSdNLI501FY"
   ],
   "provenance": []
  },
  "kernelspec": {
   "display_name": "Python 3",
   "name": "python3"
  },
  "language_info": {
   "name": "python"
  }
 },
 "nbformat": 4,
 "nbformat_minor": 0
}
