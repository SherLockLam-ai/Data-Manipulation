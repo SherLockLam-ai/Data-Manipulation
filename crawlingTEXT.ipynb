{
 "cells": [
  {
   "cell_type": "markdown",
   "metadata": {
    "id": "fnSdNLI501FY"
   },
   "source": [
    "## **1. Import necessary libraries**"
   ]
  },
  {
   "cell_type": "code",
   "execution_count": null,
   "metadata": {
    "id": "s5zjbUowBamY"
   },
   "outputs": [],
   "source": [
    "import os\n",
    "import requests\n",
    "import time\n",
    "import random\n",
    "\n",
    "from tqdm import tqdm\n",
    "from selenium import webdriver\n",
    "from selenium.webdriver.common.by import By\n",
    "from selenium.webdriver.support.ui import WebDriverWait\n",
    "from selenium.webdriver.support import expected_conditions as EC"
   ]
  },
  {
   "cell_type": "markdown",
   "metadata": {
    "id": "UM85N4Wj1Bgs"
   },
   "source": [
    "## **2. Crawl**"
   ]
  },
  {
   "cell_type": "code",
   "execution_count": null,
   "metadata": {
    "colab": {
     "base_uri": "https://localhost:8080/"
    },
    "executionInfo": {
     "elapsed": 1155421,
     "status": "ok",
     "timestamp": 1684484822231,
     "user": {
      "displayName": "Thắng Dương",
      "userId": "16346474942041582373"
     },
     "user_tz": -420
    },
    "id": "JNtQ4QAeqyp1",
    "outputId": "e5b9d8f8-fb7b-4482-f0bc-83e76831750f"
   },
   "outputs": [
    {
     "name": "stderr",
     "output_type": "stream",
     "text": [
      "100%|██████████| 10/10 [19:13<00:00, 115.33s/it]\n"
     ]
    }
   ],
   "source": [
    "# Initialize google chrome browser\n",
    "chrome_options = webdriver.ChromeOptions()\n",
    "chrome_options.add_argument('--headless=new')\n",
    "chrome_options.add_argument('--no-sandbox')\n",
    "driver = webdriver.Chrome(\n",
    "    'chromed    river',\n",
    "    options=chrome_options\n",
    ")\n",
    "\n",
    "# Create a folder for storing articles\n",
    "root_dir = './vn_news_corpus'\n",
    "os.makedirs(root_dir, exist_ok=True)\n",
    "n_pages = 10 # Change if you want more articles\n",
    "article_id = 0\n",
    "\n",
    "for page_idx in tqdm(range(n_pages)):\n",
    "    # Access to table page\n",
    "    main_url = f'https://vietnamnet.vn/thoi-su-page{page_idx}' \n",
    "    driver.get(main_url)\n",
    "\n",
    "    # Get list of articles (list of URLs)\n",
    "    news_lst_xpath = '//div[@class=\"topStory-15nd\"]/div/div[1]/a'\n",
    "    news_tags = driver.find_elements(\n",
    "        By.XPATH, \n",
    "        news_lst_xpath\n",
    "    )\n",
    "    news_page_urls = [\n",
    "        news_tag.get_attribute('href') \\\n",
    "            for news_tag in news_tags\n",
    "    ]\n",
    "\n",
    "    for news_page_url in news_page_urls:\n",
    "        # Access to article page\n",
    "        driver.get(news_page_url)\n",
    "        time.sleep(1)\n",
    "    \n",
    "        # Try to get main content tag\n",
    "        main_content_xpath = '//div[@class=\"content-detail\"]'\n",
    "        try:\n",
    "            main_content_tag = driver.find_element(\n",
    "                By.XPATH, \n",
    "                main_content_xpath\n",
    "            )\n",
    "        except:\n",
    "            continue\n",
    "        # Ignore video article \n",
    "        video_content_xpath = '//div[@class=\"video-detail\"]'\n",
    "        try:\n",
    "            video_content_tag = main_content_tag.find_element(\n",
    "                By.XPATH,\n",
    "                video_content_xpath\n",
    "            )\n",
    "            continue\n",
    "        except:\n",
    "            pass\n",
    "        # Get title (h1 tag)\n",
    "        title = main_content_tag.find_element(\n",
    "            By.TAG_NAME,\n",
    "            'h1'\n",
    "        ).text.strip()\n",
    "        # Get abstract (h2 tag)\n",
    "        abstract = main_content_tag.find_element(\n",
    "            By.TAG_NAME,\n",
    "            'h2'\n",
    "        ).text.strip()\n",
    "        # Get author name (span tag)\n",
    "        try:\n",
    "            author_xpath = '//span[@class=\"name\"]'\n",
    "            author = main_content_tag.find_element(\n",
    "                By.XPATH,\n",
    "                author_xpath\n",
    "            ).text.strip()\n",
    "        except:\n",
    "            author = ''\n",
    "        # Get paragraphs (all p tags in div \"maincontent main-content\")\n",
    "        paragraphs_xpath = '//div[@class=\"maincontent main-content\"]/p'\n",
    "        paragraphs_tags = main_content_tag.find_elements(\n",
    "            By.XPATH,\n",
    "            paragraphs_xpath\n",
    "        )\n",
    "        paragraphs_lst = [\n",
    "            paragraphs_tag.text.strip() \\\n",
    "                for paragraphs_tag in paragraphs_tags\n",
    "        ]\n",
    "        paragraphs = ' '.join(paragraphs_lst)\n",
    "        \n",
    "        ### YOUR CODE GOES HERE ### (You should fill the missing parts) \n",
    "        # Combine title, abstract, authoor and paragraphs into 1 string\n",
    "        final_content_lst = {title,abstract,paragraphs,author}\n",
    "        final_content = '\\n\\n'.join(final_content_lst)\n",
    "\n",
    "        # Save artile to .txt file\n",
    "        article_filename = f'article_{article_id:05d}.txt'\n",
    "        article_savepath = os.path.join(\n",
    "            root_dir,\n",
    "            article_filename\n",
    "        )\n",
    "        article_id += 1\n",
    "        with open(article_savepath,'w') as f:\n",
    "            f.write()\n",
    "        \n",
    "        \n",
    "        ### YOUR CODE ENDS HERE ###\n",
    "        \n",
    "        # Move back to previous page\n",
    "        driver.back()"
   ]
  },
  {
   "cell_type": "code",
   "execution_count": null,
   "metadata": {
    "colab": {
     "base_uri": "https://localhost:8080/"
    },
    "executionInfo": {
     "elapsed": 672,
     "status": "ok",
     "timestamp": 1684484988339,
     "user": {
      "displayName": "Thắng Dương",
      "userId": "16346474942041582373"
     },
     "user_tz": -420
    },
    "id": "mds2C8nVIKZq",
    "outputId": "9808ef01-1045-4a26-cbb3-63cea2a528af"
   },
   "outputs": [
    {
     "name": "stdout",
     "output_type": "stream",
     "text": [
      "  adding: vn_news_corpus/ (stored 0%)\n",
      "  adding: vn_news_corpus/article_00070.txt (deflated 50%)\n",
      "  adding: vn_news_corpus/article_00030.txt (deflated 56%)\n",
      "  adding: vn_news_corpus/article_00006.txt (deflated 55%)\n",
      "  adding: vn_news_corpus/article_00091.txt (deflated 48%)\n",
      "  adding: vn_news_corpus/article_00060.txt (deflated 70%)\n",
      "  adding: vn_news_corpus/article_00037.txt (deflated 58%)\n",
      "  adding: vn_news_corpus/article_00073.txt (deflated 55%)\n",
      "  adding: vn_news_corpus/article_00114.txt (deflated 66%)\n",
      "  adding: vn_news_corpus/article_00110.txt (deflated 63%)\n",
      "  adding: vn_news_corpus/article_00111.txt (deflated 58%)\n",
      "  adding: vn_news_corpus/article_00034.txt (deflated 60%)\n",
      "  adding: vn_news_corpus/article_00090.txt (deflated 53%)\n",
      "  adding: vn_news_corpus/article_00011.txt (deflated 58%)\n",
      "  adding: vn_news_corpus/article_00069.txt (deflated 66%)\n",
      "  adding: vn_news_corpus/article_00099.txt (deflated 46%)\n",
      "  adding: vn_news_corpus/article_00039.txt (deflated 70%)\n",
      "  adding: vn_news_corpus/article_00010.txt (deflated 49%)\n",
      "  adding: vn_news_corpus/article_00043.txt (deflated 54%)\n",
      "  adding: vn_news_corpus/article_00123.txt (deflated 64%)\n",
      "  adding: vn_news_corpus/article_00062.txt (deflated 60%)\n",
      "  adding: vn_news_corpus/article_00059.txt (deflated 63%)\n",
      "  adding: vn_news_corpus/article_00134.txt (deflated 54%)\n",
      "  adding: vn_news_corpus/article_00053.txt (deflated 62%)\n",
      "  adding: vn_news_corpus/article_00045.txt (deflated 67%)\n",
      "  adding: vn_news_corpus/article_00085.txt (deflated 54%)\n",
      "  adding: vn_news_corpus/article_00112.txt (deflated 63%)\n",
      "  adding: vn_news_corpus/article_00133.txt (deflated 52%)\n",
      "  adding: vn_news_corpus/article_00108.txt (deflated 64%)\n",
      "  adding: vn_news_corpus/article_00058.txt (deflated 59%)\n",
      "  adding: vn_news_corpus/article_00116.txt (deflated 54%)\n",
      "  adding: vn_news_corpus/article_00057.txt (deflated 70%)\n",
      "  adding: vn_news_corpus/article_00032.txt (deflated 61%)\n",
      "  adding: vn_news_corpus/article_00097.txt (deflated 72%)\n",
      "  adding: vn_news_corpus/article_00066.txt (deflated 60%)\n",
      "  adding: vn_news_corpus/article_00104.txt (deflated 56%)\n",
      "  adding: vn_news_corpus/article_00033.txt (deflated 55%)\n",
      "  adding: vn_news_corpus/article_00101.txt (deflated 56%)\n",
      "  adding: vn_news_corpus/article_00088.txt (deflated 59%)\n",
      "  adding: vn_news_corpus/article_00087.txt (deflated 62%)\n",
      "  adding: vn_news_corpus/article_00024.txt (deflated 57%)\n",
      "  adding: vn_news_corpus/article_00023.txt (deflated 57%)\n",
      "  adding: vn_news_corpus/article_00068.txt (deflated 60%)\n",
      "  adding: vn_news_corpus/article_00025.txt (deflated 56%)\n",
      "  adding: vn_news_corpus/article_00019.txt (deflated 61%)\n",
      "  adding: vn_news_corpus/article_00027.txt (deflated 63%)\n",
      "  adding: vn_news_corpus/article_00038.txt (deflated 51%)\n",
      "  adding: vn_news_corpus/article_00001.txt (deflated 48%)\n",
      "  adding: vn_news_corpus/article_00040.txt (deflated 57%)\n",
      "  adding: vn_news_corpus/article_00118.txt (deflated 52%)\n",
      "  adding: vn_news_corpus/article_00046.txt (deflated 63%)\n",
      "  adding: vn_news_corpus/article_00005.txt (deflated 56%)\n",
      "  adding: vn_news_corpus/article_00122.txt (deflated 69%)\n",
      "  adding: vn_news_corpus/article_00008.txt (deflated 56%)\n",
      "  adding: vn_news_corpus/article_00042.txt (deflated 56%)\n",
      "  adding: vn_news_corpus/article_00020.txt (deflated 53%)\n",
      "  adding: vn_news_corpus/article_00096.txt (deflated 58%)\n",
      "  adding: vn_news_corpus/article_00051.txt (deflated 54%)\n",
      "  adding: vn_news_corpus/article_00063.txt (deflated 23%)\n",
      "  adding: vn_news_corpus/article_00079.txt (deflated 52%)\n",
      "  adding: vn_news_corpus/article_00084.txt (deflated 70%)\n",
      "  adding: vn_news_corpus/article_00074.txt (deflated 62%)\n",
      "  adding: vn_news_corpus/article_00127.txt (deflated 65%)\n",
      "  adding: vn_news_corpus/article_00036.txt (deflated 53%)\n",
      "  adding: vn_news_corpus/article_00103.txt (deflated 64%)\n",
      "  adding: vn_news_corpus/article_00093.txt (deflated 58%)\n",
      "  adding: vn_news_corpus/article_00125.txt (deflated 67%)\n",
      "  adding: vn_news_corpus/article_00056.txt (deflated 67%)\n",
      "  adding: vn_news_corpus/article_00050.txt (deflated 49%)\n",
      "  adding: vn_news_corpus/article_00082.txt (deflated 61%)\n",
      "  adding: vn_news_corpus/article_00021.txt (deflated 63%)\n",
      "  adding: vn_news_corpus/article_00083.txt (deflated 48%)\n",
      "  adding: vn_news_corpus/article_00022.txt (deflated 49%)\n",
      "  adding: vn_news_corpus/article_00016.txt (deflated 60%)\n",
      "  adding: vn_news_corpus/article_00014.txt (deflated 45%)\n",
      "  adding: vn_news_corpus/article_00035.txt (deflated 53%)\n",
      "  adding: vn_news_corpus/article_00130.txt (deflated 65%)\n",
      "  adding: vn_news_corpus/article_00131.txt (deflated 57%)\n",
      "  adding: vn_news_corpus/article_00128.txt (deflated 57%)\n",
      "  adding: vn_news_corpus/article_00115.txt (deflated 52%)\n",
      "  adding: vn_news_corpus/article_00120.txt (deflated 62%)\n",
      "  adding: vn_news_corpus/article_00067.txt (deflated 66%)\n",
      "  adding: vn_news_corpus/article_00092.txt (deflated 71%)\n",
      "  adding: vn_news_corpus/article_00119.txt (deflated 61%)\n",
      "  adding: vn_news_corpus/article_00102.txt (deflated 66%)\n",
      "  adding: vn_news_corpus/article_00048.txt (deflated 64%)\n",
      "  adding: vn_news_corpus/article_00080.txt (deflated 55%)\n",
      "  adding: vn_news_corpus/article_00004.txt (deflated 63%)\n",
      "  adding: vn_news_corpus/article_00071.txt (deflated 52%)\n",
      "  adding: vn_news_corpus/article_00029.txt (deflated 56%)\n",
      "  adding: vn_news_corpus/article_00018.txt (deflated 54%)\n",
      "  adding: vn_news_corpus/article_00076.txt (deflated 64%)\n",
      "  adding: vn_news_corpus/article_00000.txt (deflated 52%)\n",
      "  adding: vn_news_corpus/article_00061.txt (deflated 63%)\n",
      "  adding: vn_news_corpus/article_00028.txt (deflated 71%)\n",
      "  adding: vn_news_corpus/article_00055.txt (deflated 63%)\n",
      "  adding: vn_news_corpus/article_00106.txt (deflated 56%)\n",
      "  adding: vn_news_corpus/article_00007.txt (deflated 54%)\n",
      "  adding: vn_news_corpus/article_00126.txt (deflated 52%)\n",
      "  adding: vn_news_corpus/article_00049.txt (deflated 56%)\n",
      "  adding: vn_news_corpus/article_00098.txt (deflated 53%)\n",
      "  adding: vn_news_corpus/article_00109.txt (deflated 56%)\n",
      "  adding: vn_news_corpus/article_00107.txt (deflated 66%)\n",
      "  adding: vn_news_corpus/article_00064.txt (deflated 71%)\n",
      "  adding: vn_news_corpus/article_00081.txt (deflated 70%)\n",
      "  adding: vn_news_corpus/article_00031.txt (deflated 57%)\n",
      "  adding: vn_news_corpus/article_00100.txt (deflated 59%)\n",
      "  adding: vn_news_corpus/article_00003.txt (deflated 61%)\n",
      "  adding: vn_news_corpus/article_00065.txt (deflated 64%)\n",
      "  adding: vn_news_corpus/article_00041.txt (deflated 44%)\n",
      "  adding: vn_news_corpus/article_00078.txt (deflated 61%)\n",
      "  adding: vn_news_corpus/article_00075.txt (deflated 47%)\n",
      "  adding: vn_news_corpus/article_00015.txt (deflated 61%)\n",
      "  adding: vn_news_corpus/article_00012.txt (deflated 55%)\n",
      "  adding: vn_news_corpus/article_00017.txt (deflated 51%)\n",
      "  adding: vn_news_corpus/article_00089.txt (deflated 53%)\n",
      "  adding: vn_news_corpus/article_00113.txt (deflated 53%)\n",
      "  adding: vn_news_corpus/article_00132.txt (deflated 58%)\n",
      "  adding: vn_news_corpus/article_00121.txt (deflated 66%)\n",
      "  adding: vn_news_corpus/article_00086.txt (deflated 60%)\n",
      "  adding: vn_news_corpus/article_00013.txt (deflated 57%)\n",
      "  adding: vn_news_corpus/article_00124.txt (deflated 57%)\n",
      "  adding: vn_news_corpus/article_00129.txt (deflated 56%)\n",
      "  adding: vn_news_corpus/article_00047.txt (deflated 70%)\n",
      "  adding: vn_news_corpus/article_00052.txt (deflated 52%)\n",
      "  adding: vn_news_corpus/article_00026.txt (deflated 71%)\n",
      "  adding: vn_news_corpus/article_00094.txt (deflated 26%)\n",
      "  adding: vn_news_corpus/article_00117.txt (deflated 67%)\n",
      "  adding: vn_news_corpus/article_00077.txt (deflated 66%)\n",
      "  adding: vn_news_corpus/article_00009.txt (deflated 58%)\n",
      "  adding: vn_news_corpus/article_00044.txt (deflated 59%)\n",
      "  adding: vn_news_corpus/article_00002.txt (deflated 65%)\n",
      "  adding: vn_news_corpus/article_00105.txt (deflated 63%)\n",
      "  adding: vn_news_corpus/article_00095.txt (deflated 62%)\n",
      "  adding: vn_news_corpus/article_00054.txt (deflated 63%)\n",
      "  adding: vn_news_corpus/article_00072.txt (deflated 59%)\n"
     ]
    }
   ],
   "source": [
    "!zip -r vn_news_corpus.zip vn_news_corpus"
   ]
  },
  {
   "cell_type": "code",
   "execution_count": null,
   "metadata": {
    "colab": {
     "base_uri": "https://localhost:8080/"
    },
    "executionInfo": {
     "elapsed": 23673,
     "status": "ok",
     "timestamp": 1684485015198,
     "user": {
      "displayName": "Thắng Dương",
      "userId": "16346474942041582373"
     },
     "user_tz": -420
    },
    "id": "jn1R3V8tK7qe",
    "outputId": "9d7790bd-3b31-4f20-93b1-2f4a77fe9436"
   },
   "outputs": [
    {
     "name": "stdout",
     "output_type": "stream",
     "text": [
      "Mounted at /content/gdrive\n"
     ]
    }
   ],
   "source": [
    "from google.colab import drive\n",
    "\n",
    "drive.mount('/content/gdrive')"
   ]
  },
  {
   "cell_type": "code",
   "execution_count": null,
   "metadata": {
    "id": "Cuo9U5-8LBit"
   },
   "outputs": [],
   "source": [
    "!cp '/content/vn_news_corpus.zip' '/content/gdrive/MyDrive/Coordinate/aio_2023_ta/module1/data_handling_project/dataset'"
   ]
  }
 ],
 "metadata": {
  "colab": {
   "authorship_tag": "ABX9TyNf3RjAm0bCiYTEueAzsgyO",
   "collapsed_sections": [
    "fnSdNLI501FY"
   ],
   "provenance": []
  },
  "kernelspec": {
   "display_name": "Python 3",
   "name": "python3"
  },
  "language_info": {
   "name": "python"
  }
 },
 "nbformat": 4,
 "nbformat_minor": 0
}
